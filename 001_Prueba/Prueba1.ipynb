{
 "cells": [
  {
   "cell_type": "raw",
   "id": "cf5dd6bf-cd89-4c50-877b-6d072c67062f",
   "metadata": {},
   "source": [
    "---\n",
    "title: \"Emma's Test\"\n",
    "description: \"Testing Blogging\" \n",
    "author: \"Emma\"\n",
    "date: \"2/1/2025\"\n",
    "categories:\n",
    "  - LLMs\n",
    "  - Learning\n",
    "---"
   ]
  },
  {
   "cell_type": "code",
   "execution_count": null,
   "id": "15a3007a-18b0-4d31-8d95-635f7306c1d5",
   "metadata": {},
   "outputs": [],
   "source": []
  }
 ],
 "metadata": {
  "kernelspec": {
   "display_name": "Python 3-12 (COMM4190)",
   "language": "python",
   "name": "python3-12_comm4190"
  },
  "language_info": {
   "codemirror_mode": {
    "name": "ipython",
    "version": 3
   },
   "file_extension": ".py",
   "mimetype": "text/x-python",
   "name": "python",
   "nbconvert_exporter": "python",
   "pygments_lexer": "ipython3",
   "version": "3.12.11"
  }
 },
 "nbformat": 4,
 "nbformat_minor": 5
}
