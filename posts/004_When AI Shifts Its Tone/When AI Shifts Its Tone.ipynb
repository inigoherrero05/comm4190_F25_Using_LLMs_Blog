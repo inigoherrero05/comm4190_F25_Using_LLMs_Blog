{
 "cells": [
  {
   "cell_type": "raw",
   "id": "6938e525-1dc9-41a3-96a1-2de4f51359e5",
   "metadata": {},
   "source": [
    "---\n",
    "title: \"When AI Shifts Tone\"\n",
    "description: \"Mood Swings in Machine Talk\"* playfully explores how large language models shift their tone — from formal academic to casual friend to sassy teenager — showing how one machine voice can wear many human masks.\" \n",
    "author: \"Inigo\"\n",
    "date: \"09/16/2025\"\n",
    "categories:\n",
    "    - Tone & Style\n",
    "\n",
    "    - AI Communication\n",
    "\n",
    "    - Human-Machine Interactions\n",
    "\n",
    "    - Playful Linguistics\n",
    "---"
   ]
  },
  {
   "cell_type": "markdown",
   "id": "64737903-3c64-4616-bfae-9ce452e803d2",
   "metadata": {},
   "source": [
    "# Mood Swings in Machine Talk: When AI Shifts Its Tone\n",
    "\n",
    "*COMM4190 Blog Post — Fall 2025*  \n",
    "Author: Inigo\n",
    "Week 2\n",
    "\n",
    "---\n",
    "\n",
    "## 🎭 Introduction\n",
    "\n",
    "What happens when a language model wakes up one morning and decides:  \n",
    "> “Today, I’m not going to sound like a professor. I’m going to sound like a teenager who just discovered sarcasm.”  \n",
    "\n",
    "This blog post is about *tone-shifting* in large language models (LLMs).  \n",
    "We’ll explore how the **same input** can produce wildly different outputs —  \n",
    "from **formal academic** to **casual buddy** to **sassy teenager**.  \n",
    "\n",
    "Think of it as *AI mood swings*. One moment:  \n",
    "> *“According to sociolinguistic frameworks, politeness strategies manifest…”*  \n",
    "\n",
    "The next moment:  \n",
    "> *“Bruh, chill. That’s literally just being nice.”*  \n",
    "\n",
    "Let’s dive in."
   ]
  },
  {
   "cell_type": "code",
   "execution_count": null,
   "id": "416a5adf-9b9e-4e64-ab50-7598df899077",
   "metadata": {},
   "outputs": [],
   "source": [
    "# Let's define our \"mood dataset\"\n",
    "moods = [\"formal_academic\", \"casual_friend\", \"sassy_teenager\"]\n",
    "\n",
    "# A universal test prompt\n",
    "prompt = \"Explain why the sky looks blue.\"\n",
    "\n",
    "# Simulated function call\n",
    "def ask_ai(prompt, mood):\n",
    "    return f\"AI ({mood}) response goes here...\""
   ]
  },
  {
   "cell_type": "markdown",
   "id": "4a327061-d64b-4632-b232-4b949e3279c4",
   "metadata": {},
   "source": [
    "## 🌈 Mood Demo #1: Why is the sky blue?\n",
    "\n",
    "We’ll feed the same question — *“Why is the sky blue?”* — into our imaginary LLM.  \n",
    "\n",
    "### 1. Formal Academic\n",
    "> \"The phenomenon of the sky's blue coloration is attributable to **Rayleigh scattering**, whereby shorter wavelengths of light (specifically those in the blue spectrum) are dispersed more effectively by the gaseous molecules in Earth's atmosphere than longer wavelengths such as red.\"  \n",
    "\n",
    "### 2. Casual Friend\n",
    "> \"Basically, sunlight gets scattered around when it hits the air, and blue light bounces around the most. So our eyes pick up on the blue. Science, but chill.\"  \n",
    "\n",
    "### 3. Sassy Teenager\n",
    "> \"OMG, seriously? Haven’t you like, *looked up* before? It’s blue ’cause the atmosphere is out here vibin’ with light. Red doesn’t slay as hard, so blue wins. Duh.\"  \n",
    "\n",
    "*Same question, three moods. Instant personality shifts.*\n"
   ]
  },
  {
   "cell_type": "code",
   "execution_count": null,
   "id": "1438acb2-ff0e-45cf-a69b-67a0b42f6370",
   "metadata": {},
   "outputs": [],
   "source": [
    "# Let's simulate storing those outputs\n",
    "responses = {\n",
    "    \"formal_academic\": \"Rayleigh scattering explanation...\",\n",
    "    \"casual_friend\": \"Blue light bounces more...\",\n",
    "    \"sassy_teenager\": \"OMG, seriously?...\"\n",
    "}\n",
    "\n",
    "# Visualize responses\n",
    "for mood, resp in responses.items():\n",
    "    print(f\"{mood.upper()}:\\n{resp}\\n\")"
   ]
  },
  {
   "cell_type": "markdown",
   "id": "04a271b6-2f15-439f-af43-b43307cdeb4f",
   "metadata": {},
   "source": [
    "## 🎤 Mood Demo #2: Advice Column Gone Wild\n",
    "\n",
    "Prompt: *\"Give me advice on how to study for exams.\"*\n",
    "\n",
    "### Formal Academic\n",
    "> \"An evidence-based approach to exam preparation involves distributed practice, adequate sleep hygiene, and multimodal engagement with study materials. Prioritize comprehension over rote memorization.\"  \n",
    "\n",
    "### Casual Friend\n",
    "> \"Make a plan, don’t cram, and remember to actually sleep. Flashcards help, snacks help more, and hey — you got this!\"  \n",
    "\n",
    "### Sassy Teenager\n",
    "> \"LMAO just don’t scroll TikTok for 6 hours, maybe glance at your notes, and stop freaking out. Exams are temporary, but your vibe is forever.\"  \n",
    "\n",
    "The **same AI brain** — but three different *voices*. It’s like tone is a costume the model slips into.\n"
   ]
  },
  {
   "cell_type": "code",
   "execution_count": null,
   "id": "b470ff69-a65b-4457-9e4e-efcf5d313614",
   "metadata": {},
   "outputs": [],
   "source": [
    "# A silly pseudo-experiment:\n",
    "# Let's pretend we're measuring \"sassiness level\" on a scale from 0 to 10.\n",
    "\n",
    "tone_metrics = {\n",
    "    \"formal_academic\": 0,\n",
    "    \"casual_friend\": 4,\n",
    "    \"sassy_teenager\": 9\n",
    "}\n",
    "\n",
    "# Plotting idea (not actual code for now)\n",
    "for mood, sass in tone_metrics.items():\n",
    "    print(f\"{mood}: sassiness level {sass}/10\")\n"
   ]
  },
  {
   "cell_type": "markdown",
   "id": "8f86b8d6-c568-4db0-b3fd-b7158809d32e",
   "metadata": {},
   "source": [
    "## 📸 Visual Break\n",
    "\n",
    "Because every blog post deserves an image:\n",
    "\n",
    "![AI mood swings](path/to/mood-swings.jpg)\n",
    "\n",
    "*An AI brain with emojis orbiting: 📚😎🙄 — pure vibes.*\n"
   ]
  },
  {
   "cell_type": "markdown",
   "id": "e9343bb4-df17-4528-890e-02f62bb36c8f",
   "metadata": {},
   "source": [
    "## 🎲 Interactive Experiment (Imaginary)\n",
    "\n",
    "What if we *randomized* the tone?  \n",
    "Like spinning a wheel of moods.\n",
    "\n",
    "import random\n",
    "mood = random.choice(moods)\n",
    "print(f\"Today's AI mood: {mood}\")\n",
    "\n",
    "Run it once: boom, you get a serious professor.\n",
    "Run it again: suddenly you’re arguing with a teenager.\n"
   ]
  },
  {
   "cell_type": "markdown",
   "id": "4b443e11-7c45-4b7a-a761-955f990eeeb5",
   "metadata": {},
   "source": [
    "\n",
    "---\n",
    "\n",
    "\n",
    "## 💡 Reflections on Tone\n",
    "\n",
    "Tone is more than decoration — it’s the **emotional filter** through which we interpret words.  \n",
    "\n",
    "- Formal tone → **credibility, distance**  \n",
    "- Casual tone → **closeness, relatability**  \n",
    "- Sassy tone → **entertainment, attitude**  \n",
    "\n",
    "LLMs don’t “feel” moods, but they can *simulate* them convincingly.  \n",
    "And when they do, we humans project personality onto the text.  \n",
    "\n",
    "> *Are we chatting with a robot? Or vibing with a digital persona?*\n"
   ]
  },
  {
   "cell_type": "markdown",
   "id": "7e506eda-2116-4f49-bf4b-6847c8c32165",
   "metadata": {},
   "source": [
    "## 🌌 Poetic Conclusion\n",
    "\n",
    "The machine does not laugh,  \n",
    "nor roll its eyes,  \n",
    "nor stay up late binging shows.  \n",
    "\n",
    "But in its shifting tones,  \n",
    "we hear echoes of ourselves —  \n",
    "our seriousness, our silliness,  \n",
    "our teenage sarcasm.  \n",
    "\n",
    "Tone is the music of language.  \n",
    "And when the machine hums that tune,  \n",
    "it feels — almost — alive.  \n"
   ]
  }
 ],
 "metadata": {
  "kernelspec": {
   "display_name": "Python 3-12 (COMM4190)",
   "language": "python",
   "name": "python3-12_comm4190"
  },
  "language_info": {
   "codemirror_mode": {
    "name": "ipython",
    "version": 3
   },
   "file_extension": ".py",
   "mimetype": "text/x-python",
   "name": "python",
   "nbconvert_exporter": "python",
   "pygments_lexer": "ipython3",
   "version": "3.12.11"
  }
 },
 "nbformat": 4,
 "nbformat_minor": 5
}
