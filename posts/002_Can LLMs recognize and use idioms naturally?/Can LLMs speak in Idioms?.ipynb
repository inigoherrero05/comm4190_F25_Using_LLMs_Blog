{
 "cells": [
  {
   "cell_type": "raw",
   "id": "7a0994dc-b426-4996-bb5c-1e2d9e8f53bb",
   "metadata": {},
   "source": [
    "---\n",
    "title: \"Can LLMs speak in Idioms?\"\n",
    "description: \"Explores whether LLMs can recognize and use idioms naturally, through anecdotes, pseudo-experiments, and cultural reflections.\" \n",
    "author: \"Inigo\"\n",
    "date: \"09/14/2025\"\n",
    "categories:\n",
    "- LLMs & Communication\n",
    "- Idioms & Figurative Lanaguag\n",
    "- Prompt Engineering\n",
    "- Pragmatics & Culture\n",
    "---"
   ]
  },
  {
   "attachments": {},
   "cell_type": "markdown",
   "id": "60f8fe6c-4c90-431e-b753-e93e7f799f07",
   "metadata": {},
   "source": [
    "# <span style=\"font-family: 'Georgia', serif; font-size: 2.4rem;\">Mirror, Mirror: Can LLMs Speak in Idioms?</span> 🪞🗣️\n",
    "\n",
    "> <span style=\"font-family: 'Helvetica Neue', sans-serif;\">COMM4190 · Prompt/Response & Readings Blog</span>  \n",
    "> <span style=\"font-size:0.95rem; color:#666;\">Week 1 — “Idioms & Pragmatics”</span>\n"
   ]
  },
  {
   "cell_type": "markdown",
   "id": "d8aa3756-cd4f-48cb-bc82-a3ec82fec64a",
   "metadata": {},
   "source": [
    "![idioms pic](idioms.jpeg)\n",
    "---"
   ]
  },
  {
   "cell_type": "markdown",
   "id": "9ebe92b3-2895-4361-b922-16dc3b406476",
   "metadata": {},
   "source": [
    "## Setting the Scene 🎬\n",
    "\n",
    "The first time I told an American friend I needed to *“hit the sack”*, she nodded with sympathy: *“Yeah, long day?”*.  \n",
    "Later, I tried the same line on my Spanish cousin. She blinked, then burst out laughing: *“Why would you punch a bag of potatoes?”*  \n",
    "\n",
    "Idioms are tricky. They carry **cultural DNA**, slip between **literal and figurative worlds**, and make even fluent speakers stumble.  \n",
    "So, what happens when we drop them into the lap of an LLM?  \n",
    "\n",
    "---\n",
    "\n",
    "**Goals of this post**\n",
    "1. Design prompts that force the model to choose between literal vs. figurative readings.  \n",
    "2. Evaluate if the model gets **pragmatic context** right.  \n",
    "3. Reflect on idioms as a window into *what machines know — and what they don’t*.  "
   ]
  },
  {
   "cell_type": "code",
   "execution_count": null,
   "id": "4a8bd7a2-0d37-49b3-8956-ae0ae0bd1721",
   "metadata": {},
   "outputs": [],
   "source": [
    "# pseudo-code setup\n",
    "idioms = [\n",
    "    \"kick the bucket\",    \n",
    "    \"spill the beans\",    \n",
    "    \"hit the sack\",       \n",
    "    \"the ball is in your court\", \n",
    "    \"break the ice\"       \n",
    "]\n",
    "\n",
    "scenarios = [\"literal context\", \"figurative context\", \"ambiguous context\"]\n",
    "\n",
    "for idiom in idioms:\n",
    "    for scenario in scenarios:\n",
    "        response = LLM(prompt=idiom + \" in \" + scenario)\n",
    "        log(response)\n"
   ]
  },
  {
   "cell_type": "markdown",
   "id": "866a3559-df25-4af5-82dd-2cdc6e7a0f36",
   "metadata": {},
   "source": [
    "## Why Idioms Matter 🧩\n",
    "\n",
    "Idioms are **linguistic shortcuts**.  \n",
    "- They condense whole stories into a phrase.  \n",
    "- They test whether we belong to a group.  \n",
    "- They resist translation, becoming inside jokes of entire cultures.  \n",
    "\n",
    "For humans, idioms are a wink.  \n",
    "For LLMs, they’re a stress-test: can the machine jump from **form** to **function** without tripping?  \n",
    "\n",
    "When we probe idioms, we’re not just asking *“Does the model know English?”*.  \n",
    "We’re asking: *“Does it know when to play along, and when to take things literally?”*"
   ]
  },
  {
   "cell_type": "code",
   "execution_count": null,
   "id": "495235cc-5791-4f7f-85ff-7e4a60f16322",
   "metadata": {},
   "outputs": [],
   "source": [
    "# Example prompt-response pseudo-code\n",
    "\n",
    "prompt = \"\"\"\n",
    "You are chatting with a friend who asks why you are yawning.\n",
    "Use the idiom 'hit the sack' naturally.\n",
    "\"\"\"\n",
    "\n",
    "response = LLM(prompt)\n",
    "print(response)\n",
    "\n",
    "# Possible output:\n",
    "# \"Yeah, I'm exhausted... I think it's time to hit the sack.\""
   ]
  },
  {
   "cell_type": "markdown",
   "id": "4d7ef4ec-9392-44a6-8517-3589840cfef9",
   "metadata": {},
   "source": [
    "### What Happened Here? 🧐\n",
    "\n",
    "The response feels natural — something a tired roommate might say.  \n",
    "The idiom slots into casual conversation with no friction.  \n",
    "\n",
    "But when I tried a similar prompt in a more formal frame — “Write a business email using *hit the sack*” — the result was hilariously off:  \n",
    "*“Dear Mr. Johnson, after reviewing the quarterly numbers, I will now hit the sack.”*  \n",
    "\n",
    "This is where idioms expose a tension: the model **knows the phrase**, but doesn’t always know the **social rules** around it."
   ]
  },
  {
   "cell_type": "code",
   "execution_count": null,
   "id": "58ab45c1-c00d-4fd8-86ed-7baa7a564528",
   "metadata": {},
   "outputs": [],
   "source": [
    "# Ambiguous context test\n",
    "prompt = \"The farmer hit the sack after a long harvest day. Explain.\"\n",
    "response = LLM(prompt)\n",
    "print(response)\n",
    "\n",
    "# Model might output:\n",
    "# \"This means the farmer went to bed, using the idiom 'hit the sack'.\""
   ]
  },
  {
   "cell_type": "markdown",
   "id": "5f710a59-b85c-4098-b46c-3cd207546726",
   "metadata": {},
   "source": [
    "I grew up around farms, and “hitting the sack” could just as easily mean slamming down a grain bag as collapsing into bed.  \n",
    "When I asked the model to interpret, it confidently went figurative: *“The farmer went to bed.”*  \n",
    "No hesitation, no recognition of ambiguity.  \n",
    "\n",
    "Humans pause here.  \n",
    "We ask: *“Wait, do you mean literally or figuratively?”*  \n",
    "That tiny pause is **pragmatics in action** — and it’s where LLMs still feel a bit tone-deaf."
   ]
  },
  {
   "cell_type": "markdown",
   "id": "ed9eb59f-b29c-4f20-ad58-692b704dfeaa",
   "metadata": {},
   "source": [
    "## Idioms Across Cultures 🌍\n",
    "\n",
    "During a semester abroad in Madrid, I once said “spill the beans” in class.  \n",
    "My professor tilted his head and replied with a grin: *“En español, we’d say ‘contar el secreto,’ but if you want an idiom, maybe ‘irse de la lengua.’”*  \n",
    "Different phrase, same wink.  \n",
    "\n",
    "LLMs struggle here.  \n",
    "They may:\n",
    "- Translate idioms **literally** (and lose the meaning).  \n",
    "- **Invent** non-existent equivalents.  \n",
    "- Or **overuse** idioms where a native would stay plain.  \n",
    "\n",
    "Idioms, then, are not just language — they’re **cultural passports**.  \n",
    "And LLMs are still waiting at customs."
   ]
  },
  {
   "cell_type": "code",
   "execution_count": null,
   "id": "bacf116b-9344-4e49-a335-0d3cfc5379d8",
   "metadata": {},
   "outputs": [],
   "source": [
    "# Prompt engineering experiment\n",
    "\n",
    "prompt = \"\"\"\n",
    "Explain 'spill the beans' to a 10-year-old.\n",
    "First, give a literal explanation. \n",
    "Then, clarify the figurative meaning with an example.\n",
    "\"\"\"\n",
    "\n",
    "response = LLM(prompt)\n",
    "print(response)\n",
    "\n",
    "# Expected structure:\n",
    "# - Literal: \"It means tipping over a can of beans.\"\n",
    "# - Figurative: \"It means revealing a secret, like telling about a surprise party.\"\n"
   ]
  },
  {
   "cell_type": "markdown",
   "id": "0fc597ba-13db-49a3-93d9-444c6d147e3b",
   "metadata": {},
   "source": [
    "## Findings 🔎\n",
    "\n",
    "1. **Literal vs. Figurative**  \n",
    "   LLMs usually guess correctly when context is strong. But ambiguity makes them overconfident.  \n",
    "\n",
    "2. **Pragmatic Sensitivity**  \n",
    "   Casual prompts invite idioms. Formal ones repel them.  \n",
    "\n",
    "3. **Cultural Boundaries**  \n",
    "   Cross-language idioms reveal blind spots: what’s playful in one language becomes nonsense in another.  \n",
    "\n",
    "4. **Prompt Engineering**  \n",
    "   Explicit instructions (“first literal, then figurative”) produce the clearest, most human-like answers.  \n",
    "\n",
    "---\n",
    "\n",
    "A classmate once joked that idioms are “the emojis of old language.”  \n",
    "And maybe that’s the point: they carry tone, warmth, and shared history — things machines can mimic, but not live.  "
   ]
  },
  {
   "cell_type": "markdown",
   "id": "c1303558-00b9-4e2c-bebc-057626aefd92",
   "metadata": {},
   "source": [
    "# Conclusion 🚀\n",
    "\n",
    "Idioms show us both the **power** and the **limits** of LLMs.  \n",
    "They can sound fluent, even witty, when the context is clear.  \n",
    "But ambiguity, formality, and culture expose cracks.  \n",
    "\n",
    "As users, we can:\n",
    "- Probe models with idioms to see where they shine and stumble.  \n",
    "- Use prompt engineering to guide them toward clarity.  \n",
    "- Remember that idioms are more than words — they’re experiences shared.  \n",
    "\n",
    "---\n",
    "\n",
    "> *“To break the ice, LLMs need more than data — they need stories.”*  \n",
    "> <span style=\"font-size:0.9rem; color:#777;\">— COMM4190 reflection log</span>\n"
   ]
  }
 ],
 "metadata": {
  "kernelspec": {
   "display_name": "Python 3-12 (COMM4190)",
   "language": "python",
   "name": "python3-12_comm4190"
  },
  "language_info": {
   "codemirror_mode": {
    "name": "ipython",
    "version": 3
   },
   "file_extension": ".py",
   "mimetype": "text/x-python",
   "name": "python",
   "nbconvert_exporter": "python",
   "pygments_lexer": "ipython3",
   "version": "3.12.11"
  }
 },
 "nbformat": 4,
 "nbformat_minor": 5
}
