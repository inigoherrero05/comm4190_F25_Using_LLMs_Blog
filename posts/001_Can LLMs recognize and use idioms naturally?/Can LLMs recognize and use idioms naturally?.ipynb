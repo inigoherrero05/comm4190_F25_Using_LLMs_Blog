{
 "cells": [
  {
   "cell_type": "raw",
   "id": "0229f2b4-fe40-4d11-9cd6-a4075c00983e",
   "metadata": {},
   "source": [
    "---\n",
    "title: \"Can LLMs recognize and use idioms naturally?\"\n",
    "description: \"Testing whether LLMs can recognize and use idioms naturally, through playful prompts, pseudo-experiments, and cultural reflections.\" \n",
    "author: \"Inigo\"\n",
    "date: \"09/14/2025\"\n",
    "categories:\n",
    "  - LLMs & Communication\n",
    "\n",
    "  - Idioms & Figurative Language\n",
    "\n",
    "  - Pragmatics & Culture\n",
    "\n",
    "  - Prompt Engineering\n",
    "---"
   ]
  },
  {
   "cell_type": "markdown",
   "id": "97ae2a71-708b-4c03-9acc-cd2ac7bba7fb",
   "metadata": {},
   "source": [
    "# <span style=\"font-family: 'Georgia', serif; font-size: 2.4rem;\">Mirror, Mirror: Can LLMs Speak in Idioms?</span> 🪞🗣️\n",
    "\n",
    "> <span style=\"font-family: 'Helvetica Neue', sans-serif;\">COMM4190 · Prompt/Response & Readings Blog</span>  \n",
    "> <span style=\"font-size:0.95rem; color:#666;\">Week X — “Idioms & Pragmatics”</span>\n",
    "\n",
    "![Conceptual cover: collage of idioms](path/to/your/cover_image.jpg)\n",
    "\n",
    "---\n"
   ]
  },
  {
   "cell_type": "markdown",
   "id": "36f0e7c2-6c1e-4b13-945d-362a091b10cf",
   "metadata": {},
   "source": [
    "## Setting the Scene 🎬\n",
    "\n",
    "The first time I told an American friend I needed to *'hit the sack'*, she nodded with sympathy: *'Yeah, long day?`*.  \n",
    "Later, I tried the same line on my Spanish cousin. She blinked, then burst out laughing: *“Why would you punch a bag of potatoes?”*  \n",
    "\n",
    "Idioms are tricky. They carry **cultural DNA**, slip between **literal and figurative worlds**, and make even fluent speakers stumble.  \n",
    "So, what happens when we drop them into the lap of an LLM?  \n",
    "\n",
    "---\n",
    "\n",
    "**Goals of this post**\n",
    "1. Design prompts that force the model to choose between literal vs. figurative readings.  \n",
    "2. Evaluate if the model gets **pragmatic context** right.  \n",
    "3. Reflect on idioms as a window into *what machines know — and what they don’t*."
   ]
  },
  {
   "cell_type": "code",
   "execution_count": 6,
   "id": "e1ab7a2d-7583-4518-9d9c-f26441c44b88",
   "metadata": {},
   "outputs": [
    {
     "ename": "OpenAIError",
     "evalue": "The api_key client option must be set either by passing api_key to the client or by setting the OPENAI_API_KEY environment variable",
     "output_type": "error",
     "traceback": [
      "\u001b[0;31m---------------------------------------------------------------------------\u001b[0m",
      "\u001b[0;31mOpenAIError\u001b[0m                               Traceback (most recent call last)",
      "Cell \u001b[0;32mIn[6], line 2\u001b[0m\n\u001b[1;32m      1\u001b[0m \u001b[38;5;28;01mfrom\u001b[39;00m\u001b[38;5;250m \u001b[39m\u001b[38;5;21;01mopenai\u001b[39;00m\u001b[38;5;250m \u001b[39m\u001b[38;5;28;01mimport\u001b[39;00m OpenAI\n\u001b[0;32m----> 2\u001b[0m client \u001b[38;5;241m=\u001b[39m \u001b[43mOpenAI\u001b[49m\u001b[43m(\u001b[49m\u001b[43m)\u001b[49m\n\u001b[1;32m      4\u001b[0m idioms \u001b[38;5;241m=\u001b[39m [\u001b[38;5;124m\"\u001b[39m\u001b[38;5;124mkick the bucket\u001b[39m\u001b[38;5;124m\"\u001b[39m, \u001b[38;5;124m\"\u001b[39m\u001b[38;5;124mspill the beans\u001b[39m\u001b[38;5;124m\"\u001b[39m, \u001b[38;5;124m\"\u001b[39m\u001b[38;5;124mhit the sack\u001b[39m\u001b[38;5;124m\"\u001b[39m]\n\u001b[1;32m      5\u001b[0m scenarios \u001b[38;5;241m=\u001b[39m [\u001b[38;5;124m\"\u001b[39m\u001b[38;5;124mliteral context\u001b[39m\u001b[38;5;124m\"\u001b[39m, \u001b[38;5;124m\"\u001b[39m\u001b[38;5;124mfigurative context\u001b[39m\u001b[38;5;124m\"\u001b[39m]\n",
      "File \u001b[0;32m/opt/jupyterhub/share/jupyter/venv/python3-12_comm4190/lib/python3.12/site-packages/openai/_client.py:110\u001b[0m, in \u001b[0;36mOpenAI.__init__\u001b[0;34m(self, api_key, organization, project, base_url, websocket_base_url, timeout, max_retries, default_headers, default_query, http_client, _strict_response_validation)\u001b[0m\n\u001b[1;32m    108\u001b[0m     api_key \u001b[38;5;241m=\u001b[39m os\u001b[38;5;241m.\u001b[39menviron\u001b[38;5;241m.\u001b[39mget(\u001b[38;5;124m\"\u001b[39m\u001b[38;5;124mOPENAI_API_KEY\u001b[39m\u001b[38;5;124m\"\u001b[39m)\n\u001b[1;32m    109\u001b[0m \u001b[38;5;28;01mif\u001b[39;00m api_key \u001b[38;5;129;01mis\u001b[39;00m \u001b[38;5;28;01mNone\u001b[39;00m:\n\u001b[0;32m--> 110\u001b[0m     \u001b[38;5;28;01mraise\u001b[39;00m OpenAIError(\n\u001b[1;32m    111\u001b[0m         \u001b[38;5;124m\"\u001b[39m\u001b[38;5;124mThe api_key client option must be set either by passing api_key to the client or by setting the OPENAI_API_KEY environment variable\u001b[39m\u001b[38;5;124m\"\u001b[39m\n\u001b[1;32m    112\u001b[0m     )\n\u001b[1;32m    113\u001b[0m \u001b[38;5;28mself\u001b[39m\u001b[38;5;241m.\u001b[39mapi_key \u001b[38;5;241m=\u001b[39m api_key\n\u001b[1;32m    115\u001b[0m \u001b[38;5;28;01mif\u001b[39;00m organization \u001b[38;5;129;01mis\u001b[39;00m \u001b[38;5;28;01mNone\u001b[39;00m:\n",
      "\u001b[0;31mOpenAIError\u001b[0m: The api_key client option must be set either by passing api_key to the client or by setting the OPENAI_API_KEY environment variable"
     ]
    }
   ],
   "source": [
    "# Pseudo-code setup for branding experiments\n",
    "\n",
    "products = [\n",
    "    \"eco-friendly water bottle\",\n",
    "    \"AI-powered study app\",\n",
    "    \"luxury candle line\"\n",
    "]\n",
    "\n",
    "for product in products:\n",
    "    response = LLM(prompt=\"Generate 5 product names and a tagline for \" + product)\n",
    "    log(response)"
   ]
  },
  {
   "cell_type": "markdown",
   "id": "f6af8d9f-15e0-48ec-9aca-bcd39b09181d",
   "metadata": {},
   "source": [
    "### Case 1: Eco-Friendly Water Bottle 🌱💧\n",
    "\n",
    "**Prompt**: “Generate 5 product names and a tagline.”  \n",
    "\n",
    "**Sample Output**:\n",
    "- PureSip  \n",
    "- AquaLeaf  \n",
    "- GreenFlow  \n",
    "- HydrEco  \n",
    "- Nature’s Sip  \n",
    "**Tagline**: *“Drink clean. Live green.”*  \n",
    "\n",
    "Not bad. But some names feel **generic** — a reminder that LLMs lean on frequency patterns.  \n",
    "Still, “PureSip” hits the ear nicely, the kind of name you’d actually see on a shelf.\n",
    "\n"
   ]
  },
  {
   "cell_type": "code",
   "execution_count": null,
   "id": "d798bc17-a39a-42c5-a2f0-d50903af7c80",
   "metadata": {},
   "outputs": [],
   "source": [
    "# Prompt variation with creative twist\n",
    "prompt = \"\"\"\n",
    "Generate 5 playful product names for an eco-friendly water bottle.\n",
    "Avoid clichés like 'green' or 'eco.'\n",
    "Make them feel poetic, almost like indie band names.\n",
    "\"\"\"\n",
    "\n",
    "response = LLM(prompt)\n",
    "print(response)"
   ]
  },
  {
   "cell_type": "markdown",
   "id": "9fd046a3-be5f-47d7-b759-eb8d3f813489",
   "metadata": {},
   "source": [
    "### Creativity with Constraints 🎭\n",
    "\n",
    "Adding constraints changes everything.  \n",
    "Now the model suggests names like:\n",
    "- “Raincatcher”  \n",
    "- “Blue Whisper”  \n",
    "- “Everflow”  \n",
    "\n",
    "These feel more **imaginative** and less like a corporate intern’s PowerPoint.  \n",
    "It shows that with **sharper prompts**, we can coax the LLM toward originality."
   ]
  },
  {
   "cell_type": "markdown",
   "id": "f9819dc0-45cd-498e-bf46-3552732b846e",
   "metadata": {},
   "source": [
    "### Case 2: AI-Powered Study App 📚🤖\n",
    "\n",
    "**Prompt**: “Generate names and slogans for a study app that uses AI.”  \n",
    "\n",
    "**Output (sample)**:\n",
    "- BrainBoost — *“Study smarter, not harder.”*  \n",
    "- MindMate — *“Your AI study buddy.”*  \n",
    "- LearnLeap — *“Jump ahead in class.”*  \n",
    "\n",
    "These are serviceable, but they echo phrases I’ve seen on real ads.  \n",
    "It’s as if the model is **channeling the marketing canon** — solid, but not surprising."
   ]
  },
  {
   "cell_type": "markdown",
   "id": "72366c84-6040-4382-907c-7b5308592f21",
   "metadata": {},
   "source": [
    "I once tested a name brainstorm with friends where someone suggested “Quiztopher Nolan” for a study tool.  \n",
    "It was absurd — and memorable.  \n",
    "This is the edge where LLMs rarely venture: the risky, the weird, the things that make humans laugh and say, *“That’s so dumb it might just work.”*\n"
   ]
  },
  {
   "cell_type": "code",
   "execution_count": null,
   "id": "e172dde3-2bd6-466e-9b94-58c75a6aa985",
   "metadata": {},
   "outputs": [],
   "source": [
    "# Luxury candle line experiment\n",
    "prompt = \"\"\"\n",
    "Imagine you are a luxury brand consultant. \n",
    "Generate 5 elegant candle names and a tagline that feels premium.\n",
    "\"\"\"\n",
    "\n",
    "response = LLM(prompt)\n",
    "print(response)"
   ]
  },
  {
   "cell_type": "markdown",
   "id": "fe198dd5-1cb4-4c53-b490-f1b62f1ad866",
   "metadata": {},
   "source": [
    "### Case 3: Luxury Candle Line 🕯️\n",
    "\n",
    "Sample Output:\n",
    "- Aurelia  \n",
    "- Velvet Ember  \n",
    "- Nocturne  \n",
    "- Solara  \n",
    "- Whisper of Rose  \n",
    "\n",
    "**Tagline**: *“Light speaks in silence.”*  \n",
    "\n",
    "This is where LLMs shine: pairing mood with market.  \n",
    "The results feel polished, evocative, and almost ready for launch.  \n",
    "Here, mimicry of branding language works in the model’s favor."
   ]
  },
  {
   "cell_type": "markdown",
   "id": "74a010bd-1d95-4b13-ba2a-a500ff42cf3c",
   "metadata": {},
   "source": [
    "## Findings 🔎\n",
    "\n",
    "1. **Generic Baseline**  \n",
    "   Without constraints, names drift toward clichés.  \n",
    "\n",
    "2. **Prompt Power**  \n",
    "   Constraints unlock more originality (e.g., poetic imagery).  \n",
    "\n",
    "3. **Human Factor**  \n",
    "   The weird, funny, and risky ideas still come more easily from humans.  \n",
    "\n",
    "4. **Sweet Spot**  \n",
    "   LLMs are excellent at **polished outputs**, less so at **breakthrough sparks**."
   ]
  },
  {
   "cell_type": "markdown",
   "id": "071f4194-4191-40a5-addc-71501a2c9f35",
   "metadata": {},
   "source": [
    "# Conclusion 🚀\n",
    "\n",
    "Branding is about more than words — it’s about vibe, risk, and resonance.  \n",
    "LLMs can imitate branding well, sometimes dazzling us with elegance.  \n",
    "But when it comes to that gut-punch of originality, they still need a human partner.  \n",
    "\n",
    "---\n",
    "\n",
    "> *“The best brands are born in laughter and risk.  \n",
    "LLMs can polish the idea — but we still have to throw the first spark.”*  "
   ]
  },
  {
   "cell_type": "code",
   "execution_count": null,
   "id": "26fc48a2-4bcc-4c6a-9b53-d23263430d2e",
   "metadata": {},
   "outputs": [],
   "source": []
  }
 ],
 "metadata": {
  "kernelspec": {
   "display_name": "Python 3-12 (COMM4190)",
   "language": "python",
   "name": "python3-12_comm4190"
  },
  "language_info": {
   "codemirror_mode": {
    "name": "ipython",
    "version": 3
   },
   "file_extension": ".py",
   "mimetype": "text/x-python",
   "name": "python",
   "nbconvert_exporter": "python",
   "pygments_lexer": "ipython3",
   "version": "3.12.11"
  }
 },
 "nbformat": 4,
 "nbformat_minor": 5
}
